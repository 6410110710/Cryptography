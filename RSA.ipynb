{
  "nbformat": 4,
  "nbformat_minor": 0,
  "metadata": {
    "colab": {
      "provenance": []
    },
    "kernelspec": {
      "name": "python3",
      "display_name": "Python 3"
    },
    "language_info": {
      "name": "python"
    }
  },
  "cells": [
    {
      "cell_type": "code",
      "execution_count": null,
      "metadata": {
        "colab": {
          "base_uri": "https://localhost:8080/"
        },
        "id": "H3ef_4MNP72_",
        "outputId": "ae884099-74aa-4190-adbf-0a235beaf0e2"
      },
      "outputs": [
        {
          "output_type": "stream",
          "name": "stdout",
          "text": [
            "Enter the value of x: 2003\n",
            "Enter the value of n: 4200\n",
            "\n",
            "round\tn\tx\tq\tr\tt\ts\tte\n",
            "1\t4200\t2003\t2\t194\t0\t1\t-2\n",
            "2\t2003\t194\t10\t63\t1\t-2\t21\n",
            "3\t194\t63\t3\t5\t-2\t21\t-65\n",
            "4\t63\t5\t12\t3\t21\t-65\t801\n",
            "5\t5\t3\t1\t2\t-65\t801\t-866\n",
            "6\t3\t2\t1\t1\t801\t-866\t1667\n",
            "7\t2\t1\t2\t0\t-866\t1667\t-4200\n",
            "8\t1\t0\t0\t0\t1667\t-4200\t-4200\n",
            "\n",
            "The multiplicative inverse of 0 mod 1 is 1667\n"
          ]
        }
      ],
      "source": [
        "def extended_euclidean(x, n):\n",
        "    t, s = 0, 1\n",
        "    original_n = n\n",
        "    rounds = []\n",
        "    while x > 0:\n",
        "        q = n // x\n",
        "        r = n - q * x\n",
        "        te = t - q * s\n",
        "\n",
        "        # Store the values for the table\n",
        "        rounds.append((n, x, q, r, t, s, te))\n",
        "\n",
        "        n, x = x, r\n",
        "        t, s = s, te\n",
        "\n",
        "    # Adjust the last round to show x = 0\n",
        "    if n == 1:\n",
        "        rounds.append((n, 0, 0, 0, t, s, te))\n",
        "        return t % original_n, rounds\n",
        "    else:\n",
        "        return None, rounds\n",
        "\n",
        "# Input x and n\n",
        "x = int(input(\"Enter the value of x: \"))\n",
        "n = int(input(\"Enter the value of n: \"))\n",
        "\n",
        "# Find the multiplicative inverse of x mod n\n",
        "inverse, rounds = extended_euclidean(x, n)\n",
        "\n",
        "# Print the rounds in a table format\n",
        "print(\"\\nround\\tn\\tx\\tq\\tr\\tt\\ts\\tte\")\n",
        "for i, (n, x, q, r, t, s, te) in enumerate(rounds):\n",
        "    print(f\"{i+1}\\t{n}\\t{x}\\t{q}\\t{r}\\t{t}\\t{s}\\t{te}\")\n",
        "\n",
        "if inverse is not None:\n",
        "    print(f\"\\nThe multiplicative inverse of {x} mod {n} is {inverse}\")\n",
        "else:\n",
        "    print(\"\\nNo multiplicative inverse found\")\n"
      ]
    },
    {
      "cell_type": "code",
      "source": [
        "def extended_euclidean(x, n):\n",
        "    t, s = 0, 1\n",
        "    original_n = n\n",
        "    rounds = []\n",
        "    while x > 0:\n",
        "        q = n // x\n",
        "        r = n - q * x\n",
        "        te = t - q * s\n",
        "\n",
        "        # Store the values for the table\n",
        "        rounds.append((n, x, q, r, t, s, te))\n",
        "\n",
        "        n, x = x, r\n",
        "        t, s = s, te\n",
        "\n",
        "    # Adjust the last round to show x = 0\n",
        "    if n == 1:\n",
        "        rounds.append((n, 0, 0, 0, t, s, te))\n",
        "        return t % original_n, rounds\n",
        "    else:\n",
        "        return None, rounds\n",
        "\n",
        "# Find the multiplicative inverse of 13 mod 22\n",
        "inverse, rounds = extended_euclidean(2003, 4200)\n",
        "\n",
        "# Print the rounds in a table format\n",
        "print(\"round\\tn\\tx\\tq\\tr\\tt\\ts\\tte\")\n",
        "for i, (n, x, q, r, t, s, te) in enumerate(rounds):\n",
        "    print(f\"{i+1}\\t{n}\\t{x}\\t{q}\\t{r}\\t{t}\\t{s}\\t{te}\")\n",
        "\n",
        "if inverse is not None:\n",
        "    print(f\"\\nThe multiplicative inverse of 2003 mod 4200 is {inverse}\")\n",
        "else:\n",
        "    print(\"\\nNo multiplicative inverse found\")\n"
      ],
      "metadata": {
        "colab": {
          "base_uri": "https://localhost:8080/"
        },
        "id": "WYNcgz8kSRRs",
        "outputId": "631fe426-5b62-49bd-ba72-b0371be6fd48"
      },
      "execution_count": null,
      "outputs": [
        {
          "output_type": "stream",
          "name": "stdout",
          "text": [
            "round\tn\tx\tq\tr\tt\ts\tte\n",
            "1\t4200\t2003\t2\t194\t0\t1\t-2\n",
            "2\t2003\t194\t10\t63\t1\t-2\t21\n",
            "3\t194\t63\t3\t5\t-2\t21\t-65\n",
            "4\t63\t5\t12\t3\t21\t-65\t801\n",
            "5\t5\t3\t1\t2\t-65\t801\t-866\n",
            "6\t3\t2\t1\t1\t801\t-866\t1667\n",
            "7\t2\t1\t2\t0\t-866\t1667\t-4200\n",
            "8\t1\t0\t0\t0\t1667\t-4200\t-4200\n",
            "\n",
            "The multiplicative inverse of 2003 mod 4200 is 1667\n"
          ]
        }
      ]
    },
    {
      "cell_type": "code",
      "source": [
        "def extended_euclidean(x, n):\n",
        "    t = 0\n",
        "    s = 1\n",
        "    original_n = n  # Store the original value of n for final modulus operation\n",
        "\n",
        "    while x > 0:\n",
        "        q = n // x  # Integer division\n",
        "\n",
        "        r = n - q * x  # Remainder\n",
        "        n = x\n",
        "        x = r\n",
        "\n",
        "        te = t - q * s\n",
        "        t = s\n",
        "        s = te\n",
        "        print(n,x,q,r,t,s,te)\n",
        "    if n == 1:\n",
        "        return t % original_n  # Ensure the result is in the correct range\n",
        "    else:\n",
        "        return \"No modular inverse exists\"\n",
        "\n",
        "# Example usage:\n",
        "x = 2003\n",
        "n = 4200\n",
        "inverse = extended_euclidean(x, n)\n",
        "print(inverse)  # Should print the modular inverse of 3 mod 11, if it exists\n"
      ],
      "metadata": {
        "colab": {
          "base_uri": "https://localhost:8080/"
        },
        "id": "Z2T1PrwwNDhu",
        "outputId": "b4050a79-2a65-42e2-851e-bc37fe0105b2"
      },
      "execution_count": null,
      "outputs": [
        {
          "output_type": "stream",
          "name": "stdout",
          "text": [
            "2003 194 2 194 1 -2 -2\n",
            "194 63 10 63 -2 21 21\n",
            "63 5 3 5 21 -65 -65\n",
            "5 3 12 3 -65 801 801\n",
            "3 2 1 2 801 -866 -866\n",
            "2 1 1 1 -866 1667 1667\n",
            "1 0 2 0 1667 -4200 -4200\n",
            "1667\n"
          ]
        }
      ]
    },
    {
      "cell_type": "code",
      "source": [
        "def square_and_multiply(x, k, n):\n",
        "    y = 1\n",
        "    k_bin = bin(k)[2:]  # Convert k to binary representation (omit the '0b' prefix)\n",
        "    nb = len(k_bin)\n",
        "\n",
        "    for i in range(nb):\n",
        "        if k_bin[i] == '1':\n",
        "            y = (x * y) % n  # Multiply x with y if the current bit k_i is 1\n",
        "        x = (x * x) % n  # Square x at each step (preparing for next bit)\n",
        "\n",
        "    return y\n",
        "\n",
        "# Example usage:\n",
        "x = 2854\n",
        "k = 1667\n",
        "n = 4331\n",
        "result = square_and_multiply(x, k, n)\n",
        "print(result)  # Should print the result of 3^13 mod 7\n"
      ],
      "metadata": {
        "colab": {
          "base_uri": "https://localhost:8080/"
        },
        "id": "enx02VmUQ2Qp",
        "outputId": "6b461e07-f9c0-4618-fb18-49c629b5aac1"
      },
      "execution_count": null,
      "outputs": [
        {
          "output_type": "stream",
          "name": "stdout",
          "text": [
            "1295\n"
          ]
        }
      ]
    },
    {
      "cell_type": "code",
      "source": [
        "def square_and_multiply(base, exponent, modulus):\n",
        "    result = 1\n",
        "    binary_exponent = bin(exponent)[2:]  # Convert exponent to binary string without '0b' prefix\n",
        "\n",
        "    for bit in binary_exponent:\n",
        "        result = (result * result) % modulus  # Square\n",
        "        if bit == '1':\n",
        "            result = (result * base) % modulus  # Multiply if the bit is 1\n",
        "\n",
        "    return result\n",
        "\n",
        "# Example usage:\n",
        "base = 2744\n",
        "exponent = 1667\n",
        "modulus = 4200\n",
        "print(f\"{base}^{exponent} mod {modulus} = {square_and_multiply(base, exponent, modulus)}\")\n"
      ],
      "metadata": {
        "colab": {
          "base_uri": "https://localhost:8080/"
        },
        "id": "BF3ofkTJUNR1",
        "outputId": "9953d269-4e56-4f80-cf3e-5d228728fbfc"
      },
      "execution_count": null,
      "outputs": [
        {
          "output_type": "stream",
          "name": "stdout",
          "text": [
            "2744^1667 mod 4200 = 1064\n"
          ]
        }
      ]
    },
    {
      "cell_type": "code",
      "source": [
        "from tabulate import tabulate\n",
        "\n",
        "def square_and_multiply_with_steps(x, k, n):\n",
        "    y = 1\n",
        "    k_bin = bin(k)[2:]  # Convert k to binary representation (omit the '0b' prefix)\n",
        "    nb = len(k_bin)\n",
        "\n",
        "    steps = []\n",
        "\n",
        "    for i in range(nb):\n",
        "        bit = int(k_bin[nb - 1 - i])  # Access bits from right to left\n",
        "        if bit == 1:\n",
        "            y = (x * y) % n\n",
        "        x = (x * x) % n\n",
        "        steps.append({\n",
        "            \"round\": i + 1,\n",
        "            \"i\": nb - 1 - i,\n",
        "            \"k_i\": bit,\n",
        "            \"Y\": y,\n",
        "            \"x\": x\n",
        "        })\n",
        "\n",
        "    return y, steps\n",
        "\n",
        "# Example usage:\n",
        "x = 10\n",
        "k = 2003\n",
        "n = 4331\n",
        "result, steps = square_and_multiply_with_steps(x, k, n)\n",
        "\n",
        "# Print result\n",
        "print(f\"Result: {result}\")\n",
        "\n",
        "# Print steps in a table\n",
        "headers = [\"round\", \"i\", \"k_i\", \"Y\", \"x\"]\n",
        "table = [[step[\"round\"], step[\"i\"], step[\"k_i\"], step[\"Y\"], step[\"x\"]] for step in steps]\n",
        "print(tabulate(table, headers=headers, tablefmt=\"grid\"))\n"
      ],
      "metadata": {
        "colab": {
          "base_uri": "https://localhost:8080/"
        },
        "id": "Z44-gqt6WCdR",
        "outputId": "b35e93fa-c3c2-4f79-9a18-3d4f5aba02d7"
      },
      "execution_count": null,
      "outputs": [
        {
          "output_type": "stream",
          "name": "stdout",
          "text": [
            "Result: 10\n",
            "+---------+-----+-------+------+------+\n",
            "|   round |   i |   k_i |    Y |    x |\n",
            "+=========+=====+=======+======+======+\n",
            "|       1 |  10 |     1 | 1044 | 2855 |\n",
            "+---------+-----+-------+------+------+\n",
            "|       2 |   9 |     1 |  892 |   83 |\n",
            "+---------+-----+-------+------+------+\n",
            "|       3 |   8 |     0 |  892 | 2558 |\n",
            "+---------+-----+-------+------+------+\n",
            "|       4 |   7 |     0 |  892 | 3554 |\n",
            "+---------+-----+-------+------+------+\n",
            "|       5 |   6 |     0 |  892 | 1720 |\n",
            "+---------+-----+-------+------+------+\n",
            "|       6 |   5 |     0 |  892 |  327 |\n",
            "+---------+-----+-------+------+------+\n",
            "|       7 |   4 |     0 |  892 | 2985 |\n",
            "+---------+-----+-------+------+------+\n",
            "|       8 |   3 |     1 | 3386 | 1358 |\n",
            "+---------+-----+-------+------+------+\n",
            "|       9 |   2 |     0 | 3386 | 3489 |\n",
            "+---------+-----+-------+------+------+\n",
            "|      10 |   1 |     1 | 3117 | 3011 |\n",
            "+---------+-----+-------+------+------+\n",
            "|      11 |   0 |     1 |   10 | 1338 |\n",
            "+---------+-----+-------+------+------+\n"
          ]
        }
      ]
    },
    {
      "cell_type": "code",
      "source": [
        "\n",
        "y = 196\n",
        "p = 14\n",
        "n = 4200\n",
        "x = (y**2) % n\n",
        "y2 = (p * y) % n\n",
        "\n",
        "print(\"y\",y2)\n",
        "print(\"x\",x)\n",
        "\n"
      ],
      "metadata": {
        "id": "s2T5BLq3sCxW",
        "colab": {
          "base_uri": "https://localhost:8080/"
        },
        "outputId": "2f52efb5-7e4e-4b37-f145-9c9393904e2b"
      },
      "execution_count": null,
      "outputs": [
        {
          "output_type": "stream",
          "name": "stdout",
          "text": [
            "y 2744\n",
            "x 616\n"
          ]
        }
      ]
    }
  ]
}