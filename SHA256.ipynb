{
  "nbformat": 4,
  "nbformat_minor": 0,
  "metadata": {
    "colab": {
      "provenance": [],
      "authorship_tag": "ABX9TyPZyfEtdv6A+tO8Ir+lxfXL",
      "include_colab_link": true
    },
    "kernelspec": {
      "name": "python3",
      "display_name": "Python 3"
    },
    "language_info": {
      "name": "python"
    }
  },
  "cells": [
    {
      "cell_type": "markdown",
      "metadata": {
        "id": "view-in-github",
        "colab_type": "text"
      },
      "source": [
        "<a href=\"https://colab.research.google.com/github/6410110710/Cryptography/blob/main/SHA256.ipynb\" target=\"_parent\"><img src=\"https://colab.research.google.com/assets/colab-badge.svg\" alt=\"Open In Colab\"/></a>"
      ]
    },
    {
      "cell_type": "code",
      "execution_count": 1,
      "metadata": {
        "colab": {
          "base_uri": "https://localhost:8080/"
        },
        "id": "CvjtVRVb6SLF",
        "outputId": "cc5da0b8-eeac-4cc8-df48-bb4956a10c41"
      },
      "outputs": [
        {
          "output_type": "stream",
          "name": "stdout",
          "text": [
            "Enter something: ratchanonklomklin\n",
            "e0f739ad23dab86f96f87bfc6659dc6fadd2df5027295b6cd16d40cf7a27b218\n"
          ]
        }
      ],
      "source": [
        "from hashlib import sha256\n",
        "\n",
        "input_ = input('Enter something: ')\n",
        "print(sha256(input_.encode('utf-8')).hexdigest())\n",
        "#e0f739ad23dab86f96f87bfc6659dc6fadd2df5027295b6cd16d40cf7a27b218"
      ]
    }
  ]
}