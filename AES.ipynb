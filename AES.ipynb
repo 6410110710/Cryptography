{
  "nbformat": 4,
  "nbformat_minor": 0,
  "metadata": {
    "colab": {
      "provenance": []
    },
    "kernelspec": {
      "name": "python3",
      "display_name": "Python 3"
    },
    "language_info": {
      "name": "python"
    }
  },
  "cells": [
    {
      "cell_type": "markdown",
      "source": [],
      "metadata": {
        "id": "57hGCLyyyga_"
      }
    },
    {
      "cell_type": "code",
      "source": [
        "import numpy as np\n"
      ],
      "metadata": {
        "id": "JM1K_58zr2M8"
      },
      "execution_count": null,
      "outputs": []
    },
    {
      "cell_type": "code",
      "source": [
        "#keys = input(\"Enter list of keys separated by spaces: \").split()\n",
        "#print(keys)\n",
        "def zigzag_matrix(lst, rows, cols):\n",
        "    if len(lst) != rows * cols:\n",
        "        raise ValueError(\"List length does not match specified matrix dimensions\")\n",
        "\n",
        "    matrix = [[0] * cols for _ in range(rows)]\n",
        "    index = 0\n",
        "\n",
        "    for col in range(cols):\n",
        "        for row in range(rows):\n",
        "            matrix[row][col] = lst[index]\n",
        "            index += 1\n",
        "\n",
        "    return matrix\n",
        "\n"
      ],
      "metadata": {
        "id": "rCZOPgtWcU78"
      },
      "execution_count": null,
      "outputs": []
    },
    {
      "cell_type": "code",
      "source": [
        "def xor_matrices(matrix1, matrix2):\n",
        "    rows1, cols1 = len(matrix1), len(matrix1[0])\n",
        "    rows2, cols2 = len(matrix2), len(matrix2[0])\n",
        "\n",
        "    if rows1 != rows2 or cols1 != cols2:\n",
        "        raise ValueError(\"Both matrices must have the same dimensions\")\n",
        "\n",
        "    result_matrix = [[0] * cols1 for _ in range(rows1)]\n",
        "\n",
        "    for i in range(rows1):\n",
        "        for j in range(cols1):\n",
        "            result_matrix[i][j] = matrix1[i][j] ^ matrix2[i][j]\n",
        "\n",
        "    return result_matrix"
      ],
      "metadata": {
        "id": "qN6gbP_Vjdpm"
      },
      "execution_count": null,
      "outputs": []
    },
    {
      "cell_type": "code",
      "source": [
        "def matrix_to_hex(matrix):\n",
        "    hex_matrix = []\n",
        "    for row in matrix:\n",
        "        hex_row = [format(value, '02X') for value in row]\n",
        "        hex_matrix.append(hex_row)\n",
        "    return hex_matrix"
      ],
      "metadata": {
        "id": "eC8yLD4qlu9G"
      },
      "execution_count": null,
      "outputs": []
    },
    {
      "cell_type": "code",
      "source": [
        "def byte_substitution(matrix, sbox):\n",
        "    substituted_matrix = []\n",
        "    for row in matrix:\n",
        "        substituted_row = []\n",
        "        for byte in row:\n",
        "            high_nibble = (byte & 0xF0) >> 4\n",
        "            low_nibble = byte & 0x0F\n",
        "            substituted_byte = sbox[high_nibble][low_nibble]\n",
        "            substituted_row.append(substituted_byte)\n",
        "        substituted_matrix.append(substituted_row)\n",
        "    return substituted_matrix"
      ],
      "metadata": {
        "id": "-UgHeVFZtF2e"
      },
      "execution_count": null,
      "outputs": []
    },
    {
      "cell_type": "code",
      "source": [
        "def shift_rows(matrix):\n",
        "    shifted_matrix = []\n",
        "    for i, row in enumerate(matrix):\n",
        "        shifted_row = row[i:] + row[:i]  # Perform circular shift left by 'i' bytes\n",
        "        shifted_matrix.append(shifted_row)\n",
        "    return shifted_matrix"
      ],
      "metadata": {
        "id": "NasPGRHyuq0R"
      },
      "execution_count": null,
      "outputs": []
    },
    {
      "cell_type": "code",
      "source": [
        "# Define the AES fixed matrix for MixColumns operation\n",
        "mix_column_matrix = [\n",
        "    [0x02, 0x03, 0x01, 0x01],\n",
        "    [0x01, 0x02, 0x03, 0x01],\n",
        "    [0x01, 0x01, 0x02, 0x03],\n",
        "    [0x03, 0x01, 0x01, 0x02]\n",
        "]\n",
        "\n",
        "# Define multiplication in GF(2^8)\n",
        "def galois_mult(a, b):\n",
        "    p = 0\n",
        "    for _ in range(8):\n",
        "        if b & 1:\n",
        "            p ^= a\n",
        "        hi_bit_set = a & 0x80\n",
        "        a <<= 1\n",
        "        if hi_bit_set:\n",
        "            a ^= 0x1b\n",
        "        b >>= 1\n",
        "    return p & 0xff\n",
        "\n",
        "# Perform MixColumns operation\n",
        "def mix_columns(state):\n",
        "    new_state = [[0] * 4 for _ in range(4)]\n",
        "    for col in range(4):\n",
        "        for row in range(4):\n",
        "            new_state[row][col] = (\n",
        "                galois_mult(mix_column_matrix[row][0], state[0][col]) ^\n",
        "                galois_mult(mix_column_matrix[row][1], state[1][col]) ^\n",
        "                galois_mult(mix_column_matrix[row][2], state[2][col]) ^\n",
        "                galois_mult(mix_column_matrix[row][3], state[3][col])\n",
        "            )\n",
        "    return new_state"
      ],
      "metadata": {
        "id": "8yY9q9F4uvB1"
      },
      "execution_count": null,
      "outputs": []
    },
    {
      "cell_type": "code",
      "source": [
        "# Define the AES inverse MixColumns matrix\n",
        "inv_mix_column_matrix = [\n",
        "    [0x0e, 0x0b, 0x0d, 0x09],\n",
        "    [0x09, 0x0e, 0x0b, 0x0d],\n",
        "    [0x0d, 0x09, 0x0e, 0x0b],\n",
        "    [0x0b, 0x0d, 0x09, 0x0e]\n",
        "]\n",
        "\n",
        "# Perform inverse MixColumns operation\n",
        "def inv_mix_columns(state):\n",
        "    new_state = [[0] * 4 for _ in range(4)]\n",
        "    for col in range(4):\n",
        "        for row in range(4):\n",
        "            new_state[row][col] = (\n",
        "                galois_mult(inv_mix_column_matrix[row][0], state[0][col]) ^\n",
        "                galois_mult(inv_mix_column_matrix[row][1], state[1][col]) ^\n",
        "                galois_mult(inv_mix_column_matrix[row][2], state[2][col]) ^\n",
        "                galois_mult(inv_mix_column_matrix[row][3], state[3][col])\n",
        "            )\n",
        "    return new_state"
      ],
      "metadata": {
        "id": "3z39AZVAwSSj"
      },
      "execution_count": null,
      "outputs": []
    },
    {
      "cell_type": "code",
      "source": [
        "def xor_matrix_with_list(matrix, xor_list):\n",
        "    result = []\n",
        "    for row in matrix:\n",
        "        xor_result_row = []\n",
        "        for i in range(len(row)):\n",
        "            xor_result = row[i] ^ xor_list[i % len(xor_list)]  # Use modulo to cycle through xor_list\n",
        "            xor_result_row.append(xor_result)\n",
        "        result.append(xor_result_row)\n",
        "    return result"
      ],
      "metadata": {
        "id": "VgWRyiTR9bTd"
      },
      "execution_count": null,
      "outputs": []
    },
    {
      "cell_type": "code",
      "execution_count": null,
      "metadata": {
        "colab": {
          "base_uri": "https://localhost:8080/"
        },
        "id": "_1DWTg1Qw5Ge",
        "outputId": "6d6285c7-9c0e-4b8f-f1f3-e85ce8694dbe"
      },
      "outputs": [
        {
          "output_type": "stream",
          "name": "stdout",
          "text": [
            "      S-box\n",
            "    0 1 2 3 4 5 6 7 8 9 A B C D E F\n",
            "0 | 63 7C 77 7B F2 6B 6F C5 30 01 67 2B FE D7 AB 76\n",
            "1 | CA 82 C9 7D FA 59 47 F0 AD D4 A2 AF 9C A4 72 C0\n",
            "2 | B7 FD 93 26 36 3F F7 CC 34 A5 E5 F1 71 D8 31 15\n",
            "3 | 04 C7 23 C3 18 96 05 9A 07 12 80 E2 EB 27 B2 75\n",
            "4 | 09 83 2C 1A 1B 6E 5A A0 52 3B D6 B3 29 E3 2F 84\n",
            "5 | 53 D1 00 ED 20 FC B1 5B 6A CB BE 39 4A 4C 58 CF\n",
            "6 | D0 EF AA FB 43 4D 33 85 45 F9 02 7F 50 3C 9F A8\n",
            "7 | 51 A3 40 8F 92 9D 38 F5 BC B6 DA 21 10 FF F3 D2\n",
            "8 | CD 0C 13 EC 5F 97 44 17 C4 A7 7E 3D 64 5D 19 73\n",
            "9 | 60 81 4F DC 22 2A 90 88 46 EE B8 14 DE 5E 0B DB\n",
            "A | E0 32 3A 0A 49 06 24 5C C2 D3 AC 62 91 95 E4 79\n",
            "B | E7 C8 37 6D 8D D5 4E A9 6C 56 F4 EA 65 7A AE 08\n",
            "C | BA 78 25 2E 1C A6 B4 C6 E8 DD 74 1F 4B BD 8B 8A\n",
            "D | 70 3E B5 66 48 03 F6 0E 61 35 57 B9 86 C1 1D 9E\n",
            "E | E1 F8 98 11 69 D9 8E 94 9B 1E 87 E9 CE 55 28 DF\n",
            "F | 8C A1 89 0D BF E6 42 68 41 99 2D 0F B0 54 BB 16\n",
            "     \n",
            "      InvS-box\n",
            "    0 1 2 3 4 5 6 7 8 9 A B C D E F\n",
            "0 | 52 09 6A D5 30 36 A5 38 BF 40 A3 9E 81 F3 D7 FB\n",
            "1 | 7C E3 39 82 9B 2F FF 87 34 8E 43 44 C4 DE E9 CB\n",
            "2 | 54 7B 94 32 A6 C2 23 3D EE 4C 95 0B 42 FA C3 4E\n",
            "3 | 08 2E A1 66 28 D9 24 B2 76 5B A2 49 6D 8B D1 25\n",
            "4 | 72 F8 F6 64 86 68 98 16 D4 A4 5C CC 5D 65 B6 92\n",
            "5 | 6C 70 48 50 FD ED B9 DA 5E 15 46 57 A7 8D 9D 84\n",
            "6 | 90 D8 AB 00 8C BC D3 0A F7 E4 58 05 B8 B3 45 06\n",
            "7 | D0 2C 1E 8F CA 3F 0F 02 C1 AF BD 03 01 13 8A 6B\n",
            "8 | 3A 91 11 41 4F 67 DC EA 97 F2 CF CE F0 B4 E6 73\n",
            "9 | 96 AC 74 22 E7 AD 35 85 E2 F9 37 E8 1C 75 DF 6E\n",
            "A | 47 F1 1A 71 1D 29 C5 89 6F B7 62 0E AA 18 BE 1B\n",
            "B | FC 56 3E 4B C6 D2 79 20 9A DB C0 FE 78 CD 5A F4\n",
            "C | 1F DD A8 33 88 07 C7 31 B1 12 10 59 27 80 EC 5F\n",
            "D | 60 51 7F A9 19 B5 4A 0D 2D E5 7A 9F 93 C9 9C EF\n",
            "E | A0 E0 3B 4D AE 2A F5 B0 C8 EB BB 3C 83 53 99 61\n",
            "F | 17 2B 04 7E BA 77 D6 26 E1 69 14 63 55 21 0C 7D\n"
          ]
        }
      ],
      "source": [
        "# Define the AES S-box\n",
        "sbox = [\n",
        "    [0x63, 0x7c, 0x77, 0x7b, 0xf2, 0x6b, 0x6f, 0xc5, 0x30, 0x01, 0x67, 0x2b, 0xfe, 0xd7, 0xab, 0x76],\n",
        "    [0xca, 0x82, 0xc9, 0x7d, 0xfa, 0x59, 0x47, 0xf0, 0xad, 0xd4, 0xa2, 0xaf, 0x9c, 0xa4, 0x72, 0xc0],\n",
        "    [0xb7, 0xfd, 0x93, 0x26, 0x36, 0x3f, 0xf7, 0xcc, 0x34, 0xa5, 0xe5, 0xf1, 0x71, 0xd8, 0x31, 0x15],\n",
        "    [0x04, 0xc7, 0x23, 0xc3, 0x18, 0x96, 0x05, 0x9a, 0x07, 0x12, 0x80, 0xe2, 0xeb, 0x27, 0xb2, 0x75],\n",
        "    [0x09, 0x83, 0x2c, 0x1a, 0x1b, 0x6e, 0x5a, 0xa0, 0x52, 0x3b, 0xd6, 0xb3, 0x29, 0xe3, 0x2f, 0x84],\n",
        "    [0x53, 0xd1, 0x00, 0xed, 0x20, 0xfc, 0xb1, 0x5b, 0x6a, 0xcb, 0xbe, 0x39, 0x4a, 0x4c, 0x58, 0xcf],\n",
        "    [0xd0, 0xef, 0xaa, 0xfb, 0x43, 0x4d, 0x33, 0x85, 0x45, 0xf9, 0x02, 0x7f, 0x50, 0x3c, 0x9f, 0xa8],\n",
        "    [0x51, 0xa3, 0x40, 0x8f, 0x92, 0x9d, 0x38, 0xf5, 0xbc, 0xb6, 0xda, 0x21, 0x10, 0xff, 0xf3, 0xd2],\n",
        "    [0xcd, 0x0c, 0x13, 0xec, 0x5f, 0x97, 0x44, 0x17, 0xc4, 0xa7, 0x7e, 0x3d, 0x64, 0x5d, 0x19, 0x73],\n",
        "    [0x60, 0x81, 0x4f, 0xdc, 0x22, 0x2a, 0x90, 0x88, 0x46, 0xee, 0xb8, 0x14, 0xde, 0x5e, 0x0b, 0xdb],\n",
        "    [0xe0, 0x32, 0x3a, 0x0a, 0x49, 0x06, 0x24, 0x5c, 0xc2, 0xd3, 0xac, 0x62, 0x91, 0x95, 0xe4, 0x79],\n",
        "    [0xe7, 0xc8, 0x37, 0x6d, 0x8d, 0xd5, 0x4e, 0xa9, 0x6c, 0x56, 0xf4, 0xea, 0x65, 0x7a, 0xae, 0x08],\n",
        "    [0xba, 0x78, 0x25, 0x2e, 0x1c, 0xa6, 0xb4, 0xc6, 0xe8, 0xdd, 0x74, 0x1f, 0x4b, 0xbd, 0x8b, 0x8a],\n",
        "    [0x70, 0x3e, 0xb5, 0x66, 0x48, 0x03, 0xf6, 0x0e, 0x61, 0x35, 0x57, 0xb9, 0x86, 0xc1, 0x1d, 0x9e],\n",
        "    [0xe1, 0xf8, 0x98, 0x11, 0x69, 0xd9, 0x8e, 0x94, 0x9b, 0x1e, 0x87, 0xe9, 0xce, 0x55, 0x28, 0xdf],\n",
        "    [0x8c, 0xa1, 0x89, 0x0d, 0xbf, 0xe6, 0x42, 0x68, 0x41, 0x99, 0x2d, 0x0f, 0xb0, 0x54, 0xbb, 0x16]\n",
        "]\n",
        "\n",
        "inv_sbox = [\n",
        "    [0x52, 0x09, 0x6A, 0xD5, 0x30, 0x36, 0xA5, 0x38, 0xBF, 0x40, 0xA3, 0x9E, 0x81, 0xF3, 0xD7, 0xFB],\n",
        "    [0x7C, 0xE3, 0x39, 0x82, 0x9B, 0x2F, 0xFF, 0x87, 0x34, 0x8E, 0x43, 0x44, 0xC4, 0xDE, 0xE9, 0xCB],\n",
        "    [0x54, 0x7B, 0x94, 0x32, 0xA6, 0xC2, 0x23, 0x3D, 0xEE, 0x4C, 0x95, 0x0B, 0x42, 0xFA, 0xC3, 0x4E],\n",
        "    [0x08, 0x2E, 0xA1, 0x66, 0x28, 0xD9, 0x24, 0xB2, 0x76, 0x5B, 0xA2, 0x49, 0x6D, 0x8B, 0xD1, 0x25],\n",
        "    [0x72, 0xF8, 0xF6, 0x64, 0x86, 0x68, 0x98, 0x16, 0xD4, 0xA4, 0x5C, 0xCC, 0x5D, 0x65, 0xB6, 0x92],\n",
        "    [0x6C, 0x70, 0x48, 0x50, 0xFD, 0xED, 0xB9, 0xDA, 0x5E, 0x15, 0x46, 0x57, 0xA7, 0x8D, 0x9D, 0x84],\n",
        "    [0x90, 0xD8, 0xAB, 0x00, 0x8C, 0xBC, 0xD3, 0x0A, 0xF7, 0xE4, 0x58, 0x05, 0xB8, 0xB3, 0x45, 0x06],\n",
        "    [0xD0, 0x2C, 0x1E, 0x8F, 0xCA, 0x3F, 0x0F, 0x02, 0xC1, 0xAF, 0xBD, 0x03, 0x01, 0x13, 0x8A, 0x6B],\n",
        "    [0x3A, 0x91, 0x11, 0x41, 0x4F, 0x67, 0xDC, 0xEA, 0x97, 0xF2, 0xCF, 0xCE, 0xF0, 0xB4, 0xE6, 0x73],\n",
        "    [0x96, 0xAC, 0x74, 0x22, 0xE7, 0xAD, 0x35, 0x85, 0xE2, 0xF9, 0x37, 0xE8, 0x1C, 0x75, 0xDF, 0x6E],\n",
        "    [0x47, 0xF1, 0x1A, 0x71, 0x1D, 0x29, 0xC5, 0x89, 0x6F, 0xB7, 0x62, 0x0E, 0xAA, 0x18, 0xBE, 0x1B],\n",
        "    [0xFC, 0x56, 0x3E, 0x4B, 0xC6, 0xD2, 0x79, 0x20, 0x9A, 0xDB, 0xC0, 0xFE, 0x78, 0xCD, 0x5A, 0xF4],\n",
        "    [0x1F, 0xDD, 0xA8, 0x33, 0x88, 0x07, 0xC7, 0x31, 0xB1, 0x12, 0x10, 0x59, 0x27, 0x80, 0xEC, 0x5F],\n",
        "    [0x60, 0x51, 0x7F, 0xA9, 0x19, 0xB5, 0x4A, 0x0D, 0x2D, 0xE5, 0x7A, 0x9F, 0x93, 0xC9, 0x9C, 0xEF],\n",
        "    [0xA0, 0xE0, 0x3B, 0x4D, 0xAE, 0x2A, 0xF5, 0xB0, 0xC8, 0xEB, 0xBB, 0x3C, 0x83, 0x53, 0x99, 0x61],\n",
        "    [0x17, 0x2B, 0x04, 0x7E, 0xBA, 0x77, 0xD6, 0x26, 0xE1, 0x69, 0x14, 0x63, 0x55, 0x21, 0x0C, 0x7D]\n",
        "]\n",
        "\n",
        "# Define the grid dimensions\n",
        "rows = \"0123456789ABCDEF\"\n",
        "columns = \"0123456789ABCDEF\"\n",
        "\n",
        "# Print the column headers for both grids\n",
        "print(\"      S-box\")\n",
        "print(\"   \", \" \".join(columns))\n",
        "\n",
        "# Print the row headers and the grid cells with S-box\n",
        "for i, r in enumerate(rows):\n",
        "    sbox_row_data = [format(sbox[i][j], '02X') for j in range(len(columns))]\n",
        "    print(f\"{r} | {' '.join(sbox_row_data)}\")\n",
        "\n",
        "print(\"     \")\n",
        "print(\"      InvS-box\")\n",
        "print(\"   \", \" \".join(columns))\n",
        "\n",
        "# Print the row headers and the grid cells with InvSubByte values\n",
        "for i, r in enumerate(rows):\n",
        "    inv_sbox_row_data = [format(inv_sbox[i][j], '02X') for j in range(len(columns))]\n",
        "    print(f\"{r} | {' '.join(inv_sbox_row_data)}\")\n",
        "\n"
      ]
    },
    {
      "cell_type": "code",
      "source": [
        "# รับข้อมูลตัวเลข 10 ตัวจากผู้ใช้\n",
        "numbers = input(\"Enter 10 digits: \")\n",
        "\n",
        "# แยก X และ Y จากตัวเลขที่รับเข้ามา\n",
        "Y = numbers[1]  # ตัวที่ 2 เป็น Y\n",
        "X = numbers[-3:]  # 3 ตัวท้ายเป็น X\n",
        "\n",
        "# สร้าง plain_text ตามรูปแบบที่กำหนด\n",
        "plain_text = [\n",
        "    0x67, int(f\"0x7{Y}\", 16), 0x10, 0x11,\n",
        "    int(f\"0x0{X[0]}\", 16), int(f\"0x{X[1]}{X[2]}\", 16), int(f\"0x8{Y}\", 16), 0x10,\n",
        "    0x11, int(f\"0x0{X[0]}\", 16), int(f\"0x{X[1]}{X[2]}\", 16), int(f\"0x9{Y}\", 16),\n",
        "    0x10, 0x11, int(f\"0x0{X[0]}\", 16), int(f\"0x{X[1]}{X[2]}\", 16)\n",
        "]\n",
        "\n",
        "# แสดงผล plain_text ที่สร้างขึ้นในรูปแบบ HEX\n",
        "plain_text_hex = [format(byte, '02X') for byte in plain_text]\n",
        "print(plain_text)\n",
        "print(\"plaintext =\", plain_text_hex)\n"
      ],
      "metadata": {
        "colab": {
          "base_uri": "https://localhost:8080/"
        },
        "id": "ZD39DG8OyAQ3",
        "outputId": "2d30163c-9e60-46c7-d519-c77787919c60"
      },
      "execution_count": null,
      "outputs": [
        {
          "output_type": "stream",
          "name": "stdout",
          "text": [
            "Enter 10 digits: 6410110710\n",
            "[103, 116, 16, 17, 7, 16, 132, 16, 17, 7, 16, 148, 16, 17, 7, 16]\n",
            "plaintext = ['67', '74', '10', '11', '07', '10', '84', '10', '11', '07', '10', '94', '10', '11', '07', '10']\n"
          ]
        }
      ]
    },
    {
      "cell_type": "code",
      "source": [],
      "metadata": {
        "id": "4eYtJCGl6aUR"
      },
      "execution_count": null,
      "outputs": []
    },
    {
      "cell_type": "code",
      "source": [
        "key = [0x24, 0x75, 0xA2, 0xB3, 0x34, 0x75, 0x56, 0x88, 0x31, 0xE2, 0x12, 0x00, 0x13, 0xAA, 0x54, 0x87]\n",
        "key_hex = [format(byte, '02X') for byte in key]\n",
        "print(key)\n",
        "print(\"Key in HEX:\", key_hex)\n"
      ],
      "metadata": {
        "colab": {
          "base_uri": "https://localhost:8080/"
        },
        "id": "-tkFrpw4dZtD",
        "outputId": "d0c1548d-5410-4595-b3ac-737c65e021fe"
      },
      "execution_count": null,
      "outputs": [
        {
          "output_type": "stream",
          "name": "stdout",
          "text": [
            "[36, 117, 162, 179, 52, 117, 86, 136, 49, 226, 18, 0, 19, 170, 84, 135]\n",
            "Key in HEX: ['24', '75', 'A2', 'B3', '34', '75', '56', '88', '31', 'E2', '12', '00', '13', 'AA', '54', '87']\n"
          ]
        }
      ]
    },
    {
      "cell_type": "code",
      "source": [
        "\n",
        "# Example usage\n",
        "print(\"plain_text\")\n",
        "rows, cols = 4, 4\n",
        "plain_matrix = zigzag_matrix(plain_text, rows, cols)\n",
        "for row in plain_matrix:\n",
        "    print(row)\n",
        "plain_matrix_hex = matrix_to_hex(plain_matrix)\n",
        "print(\"\\nresult in HEX\")\n",
        "for row in plain_matrix_hex:\n",
        "    print(row)\n",
        "\n",
        "print(\"key\")\n",
        "key_matrix = zigzag_matrix(key, rows, cols)\n",
        "for row in key_matrix:\n",
        "    print(row)\n",
        "key_matrix_hex = matrix_to_hex(key_matrix)\n",
        "print(\"\\nresult in HEX\")\n",
        "for row in key_matrix_hex:\n",
        "    print(row)\n"
      ],
      "metadata": {
        "colab": {
          "base_uri": "https://localhost:8080/"
        },
        "id": "fAgmMW6odn9S",
        "outputId": "97b1967c-794f-4fd1-d9e4-df5318a68386"
      },
      "execution_count": null,
      "outputs": [
        {
          "output_type": "stream",
          "name": "stdout",
          "text": [
            "plain_text\n",
            "[103, 7, 17, 16]\n",
            "[116, 16, 7, 17]\n",
            "[16, 132, 16, 7]\n",
            "[17, 16, 148, 16]\n",
            "\n",
            "result in HEX\n",
            "['67', '07', '11', '10']\n",
            "['74', '10', '07', '11']\n",
            "['10', '84', '10', '07']\n",
            "['11', '10', '94', '10']\n",
            "key\n",
            "[36, 52, 49, 19]\n",
            "[117, 117, 226, 170]\n",
            "[162, 86, 18, 84]\n",
            "[179, 136, 0, 135]\n",
            "\n",
            "result in HEX\n",
            "['24', '34', '31', '13']\n",
            "['75', '75', 'E2', 'AA']\n",
            "['A2', '56', '12', '54']\n",
            "['B3', '88', '00', '87']\n"
          ]
        }
      ]
    },
    {
      "cell_type": "code",
      "source": [
        "result = xor_matrices(plain_matrix, key_matrix)\n",
        "print(\"result\")\n",
        "for row in result:\n",
        "    print(row)\n",
        "\n",
        "result_hex = matrix_to_hex(result)\n",
        "print(\"\\nresult in HEX\")\n",
        "for row in result_hex:\n",
        "    print(row)"
      ],
      "metadata": {
        "colab": {
          "base_uri": "https://localhost:8080/"
        },
        "id": "qMZ2OsfUhfsB",
        "outputId": "1aef26e2-197a-4bff-d6a0-f956b0b48193"
      },
      "execution_count": null,
      "outputs": [
        {
          "output_type": "stream",
          "name": "stdout",
          "text": [
            "result\n",
            "[67, 51, 32, 3]\n",
            "[1, 101, 229, 187]\n",
            "[178, 210, 2, 83]\n",
            "[162, 152, 148, 151]\n",
            "\n",
            "result in HEX\n",
            "['43', '33', '20', '03']\n",
            "['01', '65', 'E5', 'BB']\n",
            "['B2', 'D2', '02', '53']\n",
            "['A2', '98', '94', '97']\n"
          ]
        }
      ]
    },
    {
      "cell_type": "code",
      "source": [
        "# Perform byte substitution\n",
        "substituted_matrix = byte_substitution(result, sbox)\n",
        "\n",
        "# Print the substituted matrix\n",
        "print(\"Substituted Matrix:\")\n",
        "for row in substituted_matrix:\n",
        "    print([format(byte, '02x') for byte in row])\n",
        "\n",
        "unsubstituted_matrix = byte_substitution(substituted_matrix, inv_sbox)\n",
        "print(\"UnSubstituted Matrix:\")\n",
        "for row in unsubstituted_matrix:\n",
        "    print([format(byte, '02x') for byte in row])"
      ],
      "metadata": {
        "colab": {
          "base_uri": "https://localhost:8080/"
        },
        "id": "enseBXistMuV",
        "outputId": "ef8cf039-3fe5-4113-c680-f5e2a95f0ee6"
      },
      "execution_count": null,
      "outputs": [
        {
          "output_type": "stream",
          "name": "stdout",
          "text": [
            "Substituted Matrix:\n",
            "['1a', 'c3', 'b7', '7b']\n",
            "['7c', '4d', 'd9', 'ea']\n",
            "['37', 'b5', '77', 'ed']\n",
            "['3a', '46', '22', '88']\n",
            "UnSubstituted Matrix:\n",
            "['43', '33', '20', '03']\n",
            "['01', '65', 'e5', 'bb']\n",
            "['b2', 'd2', '02', '53']\n",
            "['a2', '98', '94', '97']\n"
          ]
        }
      ]
    },
    {
      "cell_type": "code",
      "source": [
        "shifted_matrix = shift_rows(substituted_matrix)\n",
        "\n",
        "# Print the shifted matrix\n",
        "print(\"Shifted Matrix:\")\n",
        "for row in shifted_matrix:\n",
        "    print([format(byte, '02x') for byte in row])"
      ],
      "metadata": {
        "colab": {
          "base_uri": "https://localhost:8080/"
        },
        "id": "fA9V5hijuxbL",
        "outputId": "8110f064-28b5-4a90-afef-3e0d83435b2a"
      },
      "execution_count": null,
      "outputs": [
        {
          "output_type": "stream",
          "name": "stdout",
          "text": [
            "Shifted Matrix:\n",
            "['1a', 'c3', 'b7', '7b']\n",
            "['4d', 'd9', 'ea', '7c']\n",
            "['77', 'ed', '37', 'b5']\n",
            "['88', '3a', '46', '22']\n"
          ]
        }
      ]
    },
    {
      "cell_type": "code",
      "source": [
        "# Perform MixColumns operation\n",
        "mixed_state = mix_columns(shifted_matrix)\n",
        "\n",
        "# Print the mixed state (resulting state after MixColumns)\n",
        "print(\"Mixed State:\")\n",
        "for row in mixed_state:\n",
        "    print([format(byte, '02x') for byte in row])\n",
        "\n",
        "\n",
        "inv_mixed_state = inv_mix_columns(mixed_state)\n",
        "# Print the inverse mixed state\n",
        "print(\"Inverse Mixed State:\")\n",
        "for row in inv_mixed_state:\n",
        "    print([format(byte, '02x') for byte in row])"
      ],
      "metadata": {
        "colab": {
          "base_uri": "https://localhost:8080/"
        },
        "id": "58WxSUbRv09p",
        "outputId": "c3792f06-5fbf-47a9-d556-ba7b98292d91"
      },
      "execution_count": null,
      "outputs": [
        {
          "output_type": "stream",
          "name": "stdout",
          "text": [
            "Mixed State:\n",
            "['1c', '3a', '21', 'e5']\n",
            "['91', '7c', '67', '65']\n",
            "['3a', '95', 'f9', '10']\n",
            "['1f', '1e', '93', '00']\n",
            "Inverse Mixed State:\n",
            "['1a', 'c3', 'b7', '7b']\n",
            "['4d', 'd9', 'ea', '7c']\n",
            "['77', 'ed', '37', 'b5']\n",
            "['88', '3a', '46', '22']\n"
          ]
        }
      ]
    },
    {
      "cell_type": "markdown",
      "source": [
        "**T4**"
      ],
      "metadata": {
        "id": "-aU-hB8_8l3y"
      }
    },
    {
      "cell_type": "code",
      "source": [
        "def xor_lists(list1, list2):\n",
        "    # Ensure both lists have the same length\n",
        "    assert len(list1) == len(list2), \"Lists must have the same length\"\n",
        "\n",
        "    result = []\n",
        "    for i in range(len(list1)):\n",
        "        xor_result = list1[i] ^ list2[i]\n",
        "        result.append(xor_result)\n",
        "\n",
        "    return result"
      ],
      "metadata": {
        "id": "qgg5ykwj-1t8"
      },
      "execution_count": null,
      "outputs": []
    },
    {
      "cell_type": "code",
      "source": [
        "#rcon = [0x01, 0x02, 0x04, 0x08, 0x10, 0x20, 0x40, 0x80, 0x1b, 0x36]\n",
        "rotword = key[-4:]\n",
        "print(rotword)\n",
        "rot_hex = [format(byte, '02X') for byte in rotword]\n",
        "print(rot_hex)\n",
        "shifted_rot = rotword[1:] + rotword[:1]\n",
        "# แสดงผลลัพธ์\n",
        "print(shifted_rot)\n",
        "rot_shifted_hex = [format(byte, '02X') for byte in shifted_rot]\n",
        "print(rot_shifted_hex)\n",
        "\n",
        "rows, cols = 4, 1\n",
        "rot_matrix = zigzag_matrix(shifted_rot, rows, cols)\n",
        "\n",
        "print(\"\\nsubword\")\n",
        "subword = byte_substitution(rot_matrix, sbox)\n",
        "flat_subword = [item for row in subword for item in row]\n",
        "flat_subword_hex = [format(byte, '02X') for byte in flat_subword]\n",
        "\n",
        "# Print the resulting flat list\n",
        "print(flat_subword)\n",
        "print(flat_subword_hex)\n",
        "# Print the substituted matrix\n",
        "#print(\"Substituted Matrix:\")\n",
        "#for row in subword:\n",
        "#    print([format(byte, '02x') for byte in row])\n",
        "rcon = [0x01,0x00,0x00,0x00]\n",
        "\n",
        "print(\"\\nt_4\")\n",
        "t_value = xor_lists(flat_subword, rcon)\n",
        "t_value\n",
        "\n",
        "rows, cols = 4, 1\n",
        "t4 = zigzag_matrix(t_value, rows, cols)\n",
        "for row in t4:\n",
        "    print(row)\n",
        "t4_HEX = matrix_to_hex(t4)\n",
        "print(\"\\nresult in HEX\")\n",
        "for row in t4_HEX:\n",
        "    print(row)"
      ],
      "metadata": {
        "colab": {
          "base_uri": "https://localhost:8080/"
        },
        "id": "_4GXd3BH06mR",
        "outputId": "6d9a46f3-e7c9-46cc-f29a-b508a602a562"
      },
      "execution_count": null,
      "outputs": [
        {
          "output_type": "stream",
          "name": "stdout",
          "text": [
            "[19, 170, 84, 135]\n",
            "['13', 'AA', '54', '87']\n",
            "[170, 84, 135, 19]\n",
            "['AA', '54', '87', '13']\n",
            "\n",
            "subword\n",
            "[172, 32, 23, 125]\n",
            "['AC', '20', '17', '7D']\n",
            "\n",
            "t_4\n",
            "[173]\n",
            "[32]\n",
            "[23]\n",
            "[125]\n",
            "\n",
            "result in HEX\n",
            "['AD']\n",
            "['20']\n",
            "['17']\n",
            "['7D']\n"
          ]
        }
      ]
    },
    {
      "cell_type": "markdown",
      "source": [
        "W4"
      ],
      "metadata": {
        "id": "POkYimRtAzG1"
      }
    },
    {
      "cell_type": "code",
      "source": [
        "W0 = [row[0] for row in key_matrix]\n",
        "W0_matrix = zigzag_matrix(W0, rows, cols)\n",
        "W0_HEX = matrix_to_hex(W0_matrix)\n",
        "\n",
        "\n",
        "print(\"\\nW4\")\n",
        "W4 = xor_matrices(t4, W0_matrix)\n",
        "\n",
        "for row in W4:\n",
        "    print(row)\n",
        "\n",
        "W4_HEX = matrix_to_hex(W4)\n",
        "print(\"\\nresult in HEX\")\n",
        "for row in W4_HEX:\n",
        "    print(row)"
      ],
      "metadata": {
        "colab": {
          "base_uri": "https://localhost:8080/"
        },
        "id": "1JxgwQvX4JqA",
        "outputId": "00c30921-409f-4b85-965f-5d7c1b411dd3"
      },
      "execution_count": null,
      "outputs": [
        {
          "output_type": "stream",
          "name": "stdout",
          "text": [
            "\n",
            "W4\n",
            "[137]\n",
            "[85]\n",
            "[181]\n",
            "[206]\n",
            "\n",
            "result in HEX\n",
            "['89']\n",
            "['55']\n",
            "['B5']\n",
            "['CE']\n"
          ]
        }
      ]
    },
    {
      "cell_type": "code",
      "source": [
        "W1 = [row[1] for row in key_matrix]\n",
        "W1_matrix = zigzag_matrix(W1, rows, cols)\n",
        "\n",
        "print(\"W5\")\n",
        "W5 = xor_matrices(W4, W1_matrix)\n",
        "\n",
        "\n",
        "W5_HEX = matrix_to_hex(W5)\n",
        "print(\"\\nresult in HEX\")\n",
        "for row in W5_HEX:\n",
        "    print(row)"
      ],
      "metadata": {
        "colab": {
          "base_uri": "https://localhost:8080/"
        },
        "id": "I5xFLKE5Emyg",
        "outputId": "6b5d6496-43be-404a-969c-5afe587579bf"
      },
      "execution_count": null,
      "outputs": [
        {
          "output_type": "stream",
          "name": "stdout",
          "text": [
            "W5\n",
            "\n",
            "result in HEX\n",
            "['BD']\n",
            "['20']\n",
            "['E3']\n",
            "['46']\n"
          ]
        }
      ]
    },
    {
      "cell_type": "code",
      "source": [
        "W2 = [row[2] for row in key_matrix]\n",
        "W2_matrix = zigzag_matrix(W2, rows, cols)\n",
        "\n",
        "print(\"W6\")\n",
        "W6 = xor_matrices(W5, W2_matrix)\n",
        "\n",
        "\n",
        "W6_HEX = matrix_to_hex(W6)\n",
        "print(\"\\nresult in HEX\")\n",
        "for row in W6_HEX:\n",
        "    print(row)"
      ],
      "metadata": {
        "colab": {
          "base_uri": "https://localhost:8080/"
        },
        "id": "IYvHGLRtFhHO",
        "outputId": "5ff37ffd-c023-4a32-9617-5c00cebe14e5"
      },
      "execution_count": null,
      "outputs": [
        {
          "output_type": "stream",
          "name": "stdout",
          "text": [
            "W6\n",
            "\n",
            "result in HEX\n",
            "['8C']\n",
            "['C2']\n",
            "['F1']\n",
            "['46']\n"
          ]
        }
      ]
    },
    {
      "cell_type": "code",
      "source": [
        "W3 = [row[3] for row in key_matrix]\n",
        "W3_matrix = zigzag_matrix(W3, rows, cols)\n",
        "\n",
        "W7 = xor_matrices(W6, W3_matrix)\n",
        "\n",
        "# Step 4: Convert W7 to hexadecimal format\n",
        "W7_HEX = matrix_to_hex(W7)\n",
        "\n",
        "# Print W7 in hexadecimal format\n",
        "print(\"W7 in HEX:\")\n",
        "for row in W7_HEX:\n",
        "    print(row)"
      ],
      "metadata": {
        "colab": {
          "base_uri": "https://localhost:8080/"
        },
        "id": "H9A_eED5GIL4",
        "outputId": "05b3aa60-e834-4eac-acca-14bf98000b44"
      },
      "execution_count": null,
      "outputs": [
        {
          "output_type": "stream",
          "name": "stdout",
          "text": [
            "W7 in HEX:\n",
            "['9F']\n",
            "['68']\n",
            "['A5']\n",
            "['C1']\n"
          ]
        }
      ]
    },
    {
      "cell_type": "code",
      "source": [
        "combined_matrix = [m1 + m2 + m3 + m4 for m1, m2, m3, m4 in zip(W4, W5, W6, W7)]\n",
        "\n",
        "# Print the combined matrix\n",
        "for row in combined_matrix:\n",
        "    print(row)\n",
        "\n",
        "combined_matrix_HEX = matrix_to_hex(combined_matrix)\n",
        "\n",
        "# Print combined_matrix in hexadecimal format\n",
        "print(\"combined_matrix in HEX:\")\n",
        "for row in combined_matrix_HEX:\n",
        "    print(row)"
      ],
      "metadata": {
        "colab": {
          "base_uri": "https://localhost:8080/"
        },
        "id": "7rwxyRf7Fg81",
        "outputId": "979d797b-4716-406a-8108-7587e5f2d39a"
      },
      "execution_count": null,
      "outputs": [
        {
          "output_type": "stream",
          "name": "stdout",
          "text": [
            "[137, 189, 140, 159]\n",
            "[85, 32, 194, 104]\n",
            "[181, 227, 241, 165]\n",
            "[206, 70, 70, 193]\n",
            "combined_matrix in HEX:\n",
            "['89', 'BD', '8C', '9F']\n",
            "['55', '20', 'C2', '68']\n",
            "['B5', 'E3', 'F1', 'A5']\n",
            "['CE', '46', '46', 'C1']\n"
          ]
        }
      ]
    },
    {
      "cell_type": "code",
      "source": [
        "lastresult = xor_matrices(mixed_state, combined_matrix)\n",
        "print(\"lastresult\")\n",
        "for row in lastresult:\n",
        "    print(row)\n",
        "\n",
        "lastresult_hex = matrix_to_hex(lastresult)\n",
        "print(\"\\nresult in HEX\")\n",
        "for row in lastresult_hex:\n",
        "    print(row)"
      ],
      "metadata": {
        "colab": {
          "base_uri": "https://localhost:8080/"
        },
        "id": "3KppMS5xGwHZ",
        "outputId": "e1f15569-9e8b-4c54-c5a3-208720e466ac"
      },
      "execution_count": null,
      "outputs": [
        {
          "output_type": "stream",
          "name": "stdout",
          "text": [
            "lastresult\n",
            "[149, 135, 173, 122]\n",
            "[196, 92, 165, 13]\n",
            "[143, 118, 8, 181]\n",
            "[209, 88, 213, 193]\n",
            "\n",
            "result in HEX\n",
            "['95', '87', 'AD', '7A']\n",
            "['C4', '5C', 'A5', '0D']\n",
            "['8F', '76', '08', 'B5']\n",
            "['D1', '58', 'D5', 'C1']\n"
          ]
        }
      ]
    }
  ]
}